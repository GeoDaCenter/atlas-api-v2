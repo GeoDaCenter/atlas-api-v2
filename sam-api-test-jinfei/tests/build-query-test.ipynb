{
 "cells": [
  {
   "cell_type": "code",
   "execution_count": 4,
   "id": "7793b95f",
   "metadata": {},
   "outputs": [],
   "source": [
    "# ! pip install google-auth google-cloud-bigquery --quiet"
   ]
  },
  {
   "cell_type": "code",
   "execution_count": 37,
   "id": "3bc2592a",
   "metadata": {},
   "outputs": [],
   "source": [
    "# ! pip install --upgrade 'google-cloud-bigquery[bqstorage,pandas]'"
   ]
  },
  {
   "cell_type": "code",
   "execution_count": 38,
   "id": "37e4e3f3",
   "metadata": {},
   "outputs": [],
   "source": [
    "from datetime import datetime, timedelta, date\n",
    "import json\n",
    "\n",
    "from google.oauth2 import service_account\n",
    "from google.cloud import bigquery"
   ]
  },
  {
   "cell_type": "code",
   "execution_count": 75,
   "id": "81dd5380",
   "metadata": {},
   "outputs": [],
   "source": [
    "def getClient(path='credentials.json'):\n",
    "    return bigquery.Client(credentials=service_account.Credentials.from_service_account_file(path))\n",
    "\n",
    "def queryGbq(client, query):\n",
    "    query_job = client.query(query)\n",
    "    return query_job.result().to_dataframe(create_bqstorage_client=False)\n",
    "\n",
    "def lambda_handler(event, context):\n",
    "    \"\"\"Sample pure Lambda function\n",
    "    \"\"\"\n",
    "\n",
    "    try:\n",
    "        client = getClient(path='credentials.json')\n",
    "        path = event[\"path\"]\n",
    "        param = event[\"queryStringParameters\"]\n",
    "        query = build_query_by_parsing(path, param)\n",
    "        results = queryGbq(client, query)\n",
    "        if True:\n",
    "            formatted_results = results.to_json(orient='records')\n",
    "\n",
    "    except Exception as e:\n",
    "        # Send some context about this error to Lambda Logs\n",
    "        print(e)\n",
    "\n",
    "    # print(results.head())\n",
    "    return {\n",
    "        \"statusCode\": 200,\n",
    "        \"body\": json.dumps({\n",
    "            \"data\": formatted_results\n",
    "        }),\n",
    "    }\n"
   ]
  },
  {
   "cell_type": "code",
   "execution_count": 67,
   "id": "17d8aaa7",
   "metadata": {},
   "outputs": [
    {
     "data": {
      "text/plain": [
       "{'resource': '/{proxy+}',\n",
       " 'path': '/vaccination/county/cumulative',\n",
       " 'httpMethod': 'GET',\n",
       " 'queryStringParameters': {'source': 'cdc',\n",
       "  'from': '2021-01-01',\n",
       "  'geoid': '(1131,204031,206063,206091)',\n",
       "  'to': '2021-01-15'}}"
      ]
     },
     "execution_count": 67,
     "metadata": {},
     "output_type": "execute_result"
    }
   ],
   "source": [
    "event"
   ]
  },
  {
   "cell_type": "code",
   "execution_count": 86,
   "id": "7add9736",
   "metadata": {},
   "outputs": [],
   "source": [
    "event = {\n",
    "    \"resource\": \"/{proxy+}\",\n",
    "    \"path\": \"/deaths/county/cumulative\",\n",
    "    \"httpMethod\": \"GET\",\n",
    "    \"queryStringParameters\": {\n",
    "        \"source\": \"nyt\",\n",
    "        \"from\": \"2021-01-01\",\n",
    "        \"geoid\": \"(1131,204031,206063,206091)\",\n",
    "        \"to\": \"2021-02-01\"\n",
    "    }\n",
    "}"
   ]
  },
  {
   "cell_type": "code",
   "execution_count": 87,
   "id": "daaebdf9",
   "metadata": {},
   "outputs": [
    {
     "data": {
      "text/plain": [
       "{'statusCode': 200,\n",
       " 'body': '{\"data\": \"[{\\\\\"fips_code\\\\\":1131,\\\\\"_2021_01_01\\\\\":19.0,\\\\\"_2021_01_02\\\\\":19.0,\\\\\"_2021_01_03\\\\\":19.0,\\\\\"_2021_01_04\\\\\":19.0,\\\\\"_2021_01_05\\\\\":19.0,\\\\\"_2021_01_06\\\\\":19.0,\\\\\"_2021_01_07\\\\\":20.0,\\\\\"_2021_01_08\\\\\":20.0,\\\\\"_2021_01_09\\\\\":20.0,\\\\\"_2021_01_10\\\\\":20.0,\\\\\"_2021_01_11\\\\\":20.0,\\\\\"_2021_01_12\\\\\":20.0,\\\\\"_2021_01_13\\\\\":21.0,\\\\\"_2021_01_14\\\\\":21.0,\\\\\"_2021_01_15\\\\\":21.0,\\\\\"_2021_01_16\\\\\":21.0,\\\\\"_2021_01_17\\\\\":21.0,\\\\\"_2021_01_18\\\\\":21.0,\\\\\"_2021_01_19\\\\\":21.0,\\\\\"_2021_01_20\\\\\":21.0,\\\\\"_2021_01_21\\\\\":22.0,\\\\\"_2021_01_22\\\\\":22.0,\\\\\"_2021_01_23\\\\\":22.0,\\\\\"_2021_01_24\\\\\":22.0,\\\\\"_2021_01_25\\\\\":22.0,\\\\\"_2021_01_26\\\\\":22.0,\\\\\"_2021_01_27\\\\\":22.0,\\\\\"_2021_01_28\\\\\":22.0,\\\\\"_2021_01_29\\\\\":22.0,\\\\\"_2021_01_30\\\\\":22.0,\\\\\"_2021_01_31\\\\\":22.0}]\"}'}"
      ]
     },
     "execution_count": 87,
     "metadata": {},
     "output_type": "execute_result"
    }
   ],
   "source": [
    "lambda_handler(event, context)"
   ]
  },
  {
   "cell_type": "markdown",
   "id": "af64b858",
   "metadata": {},
   "source": [
    "# Lambda Function test"
   ]
  },
  {
   "cell_type": "code",
   "execution_count": 11,
   "id": "f144882c",
   "metadata": {},
   "outputs": [],
   "source": [
    "# NOTE: This is a test lambda_handler to find out the parameters and path\n",
    "import json\n",
    "\n",
    "def lambda_handler(event, context):\n",
    "    statusCode = 200\n",
    "    return {\n",
    "        \"statusCode\": statusCode,\n",
    "        \"body\": {\"path\": event[\"path\"],\n",
    "                 \"queryStringParameters\": event[\"queryStringParameters\"]},\n",
    "        \"headers\": {\n",
    "            \"Content-Type\": \"application/json\"\n",
    "        }\n",
    "    }"
   ]
  },
  {
   "cell_type": "markdown",
   "id": "bff1c13e",
   "metadata": {},
   "source": [
    "Test URL:\n",
    "\n",
    "vaccination/county/cumulative?source=usafacts&from=2021-01-01&to=2021-01-15&geoid=(1131,204031,206063,206091)"
   ]
  },
  {
   "cell_type": "code",
   "execution_count": 61,
   "id": "75b94464",
   "metadata": {},
   "outputs": [],
   "source": [
    "event = {\n",
    "    \"resource\": \"/{proxy+}\",\n",
    "    \"path\": \"/vaccination/county/cumulative\",\n",
    "    \"httpMethod\": \"GET\",\n",
    "    \"queryStringParameters\": {\n",
    "        \"source\": \"cdc\",\n",
    "        \"from\": \"2021-01-01\",\n",
    "        \"geoid\": \"(1131,204031,206063,206091)\",\n",
    "        \"to\": \"2021-01-15\"\n",
    "    }\n",
    "}\n",
    "context = None\n",
    "\n",
    "path = event[\"path\"]\n",
    "param = event[\"queryStringParameters\"]"
   ]
  },
  {
   "cell_type": "code",
   "execution_count": 82,
   "id": "827041a5",
   "metadata": {},
   "outputs": [
    {
     "data": {
      "text/plain": [
       "'\"1erdfd\"'"
      ]
     },
     "execution_count": 82,
     "metadata": {},
     "output_type": "execute_result"
    }
   ],
   "source": [
    "json.dumps(\"1erdfd\")"
   ]
  },
  {
   "cell_type": "code",
   "execution_count": 62,
   "id": "2ad8c6c4",
   "metadata": {},
   "outputs": [],
   "source": [
    "build_query_by_parsing(path, param)"
   ]
  },
  {
   "cell_type": "code",
   "execution_count": 63,
   "id": "52c6fda4",
   "metadata": {},
   "outputs": [
    {
     "data": {
      "text/plain": [
       "'SELECT fips_code, _2021_01_01, _2021_01_02, _2021_01_03, _2021_01_04, _2021_01_05, _2021_01_06, _2021_01_07, _2021_01_08, _2021_01_09, _2021_01_10, _2021_01_11, _2021_01_12, _2021_01_13, _2021_01_14 FROM vaccination_fully_vaccinated_cdc WHERE fips_code in (1131,204031,206063,206091)'"
      ]
     },
     "execution_count": 63,
     "metadata": {},
     "output_type": "execute_result"
    }
   ],
   "source": [
    "build_query_by_parsing(path, param)"
   ]
  },
  {
   "cell_type": "code",
   "execution_count": 74,
   "id": "9015f872",
   "metadata": {},
   "outputs": [],
   "source": [
    "def build_query_by_parsing(path, param):\n",
    "    '''\n",
    "    Test example:\n",
    "    path is required, param is optional\n",
    "    path = '/vaccination/county/cumulative',\n",
    "    param = {'source': 'cdc',\n",
    "           'from': '2020-05-01',\n",
    "           'geoid': '(1131,204031,206063,206091)',\n",
    "           'to': '2020-11-01'}\n",
    "    '''\n",
    "    path_lst = path.split('/')\n",
    "    dataset, spatial_unit, temporal_unit = [i for i in path_lst[1:]]\n",
    "    \n",
    "    select_clause = create_select_clause(temporal_unit, param)\n",
    "    \n",
    "    # default data source is cdc\n",
    "    if \"source\" in param:\n",
    "        from_clause = create_from_clause(path, param[\"source\"])\n",
    "    else:\n",
    "        from_clause = create_from_clause(path, \"cdc\") \n",
    "    \n",
    "    query = select_clause  + from_clause\n",
    "    \n",
    "    if \"geoid\" in param:\n",
    "        where_clause = f\" WHERE fips_code in {param['geoid']}\"\n",
    "        query += where_clause\n",
    "\n",
    "    return query"
   ]
  },
  {
   "cell_type": "code",
   "execution_count": 83,
   "id": "89beb0fa",
   "metadata": {},
   "outputs": [],
   "source": [
    "def create_from_clause(path, source):\n",
    "    '''\n",
    "    source: datasource\n",
    "    \n",
    "    '''\n",
    "    path_lst = path.split('/')\n",
    "    dataset, spatial_unit, temporal_unit = [i for i in path_lst[1:]]\n",
    "    \n",
    "    from_clause = \" FROM covid-atlas.public.\"\n",
    "    \n",
    "    if dataset == \"vaccination\":\n",
    "        from_clause += (\"vaccination_fully_vaccinated\" + f\"_{source}\")\n",
    "    elif dataset == \"confirmed\":\n",
    "        from_clause += (\"covid_confirmed\" + f\"_{source}\")\n",
    "    elif dataset == \"deaths\":\n",
    "        from_clause += (\"covid_deaths\" + f\"_{source}\")\n",
    "    \n",
    "    if spatial_unit == \"state\":\n",
    "        from_clause += \"_state\"\n",
    "        \n",
    "    return from_clause"
   ]
  },
  {
   "cell_type": "code",
   "execution_count": 47,
   "id": "acd405fd",
   "metadata": {},
   "outputs": [],
   "source": [
    "def create_select_clause(temporal_unit, param):\n",
    "    '''\n",
    "    Input:\n",
    "    temporal_unit(str): cumulative, time-series, snapshot\n",
    "    param(dic): queryStringParameters\n",
    "    Rules:\n",
    "    if temporal_unit is snapshot, then 'recentX' (recent x days) in param\n",
    "    if \"from\" in param, \"to\" is in param\n",
    "    if temporal_unit is snapshot, it's stronger than \"from\" and \"to\"\n",
    "    '''\n",
    "    \n",
    "    select_clause = \"SELECT fips_code\"\n",
    "    \n",
    "    if temporal_unit == \"snapshot\":\n",
    "        end = date.today()\n",
    "        start = end - timedelta(days=param['recentX'])\n",
    "        date_list = [(start + timedelta(days=x)).strftime(\"_%Y_%m_%d\") for x in range((end - start).days)]\n",
    "        columns = (', ').join(date_list)\n",
    "        select_clause += f\", {columns}\"\n",
    "        \n",
    "    elif \"from\" in param:\n",
    "        start = datetime.fromisoformat(param[\"from\"])\n",
    "        end = datetime.fromisoformat(param[\"to\"])\n",
    "        date_list = [(start + timedelta(days=x)).strftime(\"_%Y_%m_%d\") for x in range((end - start).days)]\n",
    "        columns = (', ').join(date_list)\n",
    "        select_clause += f\", {columns}\"\n",
    "        \n",
    "    return select_clause"
   ]
  },
  {
   "cell_type": "code",
   "execution_count": 32,
   "id": "f2c3291d",
   "metadata": {},
   "outputs": [
    {
     "data": {
      "text/plain": [
       "'FROM vaccination_fully_vaccinated_cdc'"
      ]
     },
     "execution_count": 32,
     "metadata": {},
     "output_type": "execute_result"
    }
   ],
   "source": [
    "create_from_clause('/vaccination/county/cumulative', \"cdc\")"
   ]
  },
  {
   "cell_type": "code",
   "execution_count": 30,
   "id": "27e8ddd6",
   "metadata": {},
   "outputs": [
    {
     "data": {
      "text/plain": [
       "'covid_confirmed_usafact_state'"
      ]
     },
     "execution_count": 30,
     "metadata": {},
     "output_type": "execute_result"
    }
   ],
   "source": [
    "create_from_clause(\"/confirmed/state/cumulative\", \"usafact\")"
   ]
  },
  {
   "cell_type": "code",
   "execution_count": 50,
   "id": "4c557690",
   "metadata": {},
   "outputs": [
    {
     "data": {
      "text/plain": [
       "'SELECT fips_code, _2021_11_03, _2021_11_04, _2021_11_05, _2021_11_06, _2021_11_07, _2021_11_08, _2021_11_09, _2021_11_10, _2021_11_11, _2021_11_12, _2021_11_13, _2021_11_14, _2021_11_15, _2021_11_16, _2021_11_17, _2021_11_18, _2021_11_19, _2021_11_20, _2021_11_21, _2021_11_22, _2021_11_23, _2021_11_24, _2021_11_25, _2021_11_26, _2021_11_27, _2021_11_28, _2021_11_29, _2021_11_30, _2021_12_01, _2021_12_02'"
      ]
     },
     "execution_count": 50,
     "metadata": {},
     "output_type": "execute_result"
    }
   ],
   "source": [
    "temporal_unit = \"snapshot\"\n",
    "param = {'source': 'cdc',\n",
    "   'from': '2020-05-01',\n",
    "   'geoid': '(1131,204031,206063,206091)',\n",
    "   'to': '2020-05-15',\n",
    "    'recentX': 30}\n",
    "create_select_clause(temporal_unit, param)"
   ]
  },
  {
   "cell_type": "code",
   "execution_count": 51,
   "id": "ebe751a8",
   "metadata": {},
   "outputs": [
    {
     "data": {
      "text/plain": [
       "'SELECT fips_code, _2020_05_01, _2020_05_02, _2020_05_03, _2020_05_04, _2020_05_05, _2020_05_06, _2020_05_07, _2020_05_08, _2020_05_09, _2020_05_10, _2020_05_11, _2020_05_12, _2020_05_13, _2020_05_14'"
      ]
     },
     "execution_count": 51,
     "metadata": {},
     "output_type": "execute_result"
    }
   ],
   "source": [
    "temporal_unit = \"cumulative\"\n",
    "param = {'source': 'cdc',\n",
    "   'from': '2020-05-01',\n",
    "   'geoid': '(1131,204031,206063,206091)',\n",
    "   'to': '2020-05-15'}\n",
    "create_select_clause(temporal_unit, param)"
   ]
  },
  {
   "cell_type": "code",
   "execution_count": null,
   "id": "c909af63",
   "metadata": {},
   "outputs": [],
   "source": []
  }
 ],
 "metadata": {
  "kernelspec": {
   "display_name": "Python 3 (ipykernel)",
   "language": "python",
   "name": "python3"
  },
  "language_info": {
   "codemirror_mode": {
    "name": "ipython",
    "version": 3
   },
   "file_extension": ".py",
   "mimetype": "text/x-python",
   "name": "python",
   "nbconvert_exporter": "python",
   "pygments_lexer": "ipython3",
   "version": "3.8.5"
  }
 },
 "nbformat": 4,
 "nbformat_minor": 5
}
